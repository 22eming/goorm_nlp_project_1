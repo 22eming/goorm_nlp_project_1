{
 "cells": [
  {
   "cell_type": "code",
   "execution_count": 2,
   "metadata": {},
   "outputs": [],
   "source": [
    "import os\n",
    "import pdb\n",
    "import argparse\n",
    "from dataclasses import dataclass, field\n",
    "from typing import Optional\n",
    "from collections import defaultdict\n",
    "\n",
    "import torch\n",
    "from torch.nn.utils.rnn import pad_sequence\n",
    "\n",
    "import numpy as np\n",
    "from tqdm import tqdm, trange\n",
    "\n",
    "from transformers import (\n",
    "    BertForSequenceClassification,\n",
    "    BertTokenizer,\n",
    "    AutoConfig,\n",
    "    AdamW\n",
    ")\n",
    "\n",
    "from preprocess import data2dataset\n",
    "from utils import collate_fn_style, collate_fn_style_test, compute_acc"
   ]
  },
  {
   "cell_type": "code",
   "execution_count": null,
   "metadata": {},
   "outputs": [],
   "source": [
    "!pip install transformers wandb\n"
   ]
  },
  {
   "cell_type": "code",
   "execution_count": null,
   "metadata": {},
   "outputs": [],
   "source": [
    "import wandb\n",
    "wandb.login()\n",
    "\n",
    "hyperparameter_defaults = dict(\n",
    "    dropout = 0.1,\n",
    "    batch_size = 64,\n",
    "    learning_rate = 1e-5,\n",
    "    epochs = 3,\n",
    "    seed = 42,\n",
    "    architecture = \"BERT\",\n",
    "    classes = 2,\n",
    "    tr_loss_check = 50,\n",
    "    )\n",
    "\n",
    "wandb.init(config=hyperparameter_defaults, project=\"baseline-LR\", entity=\"goorm_nlp_project_1\", reinit=True)\n",
    "config = wandb.config\n",
    "wandb.run.name = 'baseline-LR[]'"
   ]
  },
  {
   "cell_type": "markdown",
   "metadata": {},
   "source": [
    "# preprocess"
   ]
  },
  {
   "cell_type": "code",
   "execution_count": 3,
   "metadata": {},
   "outputs": [
    {
     "name": "stderr",
     "output_type": "stream",
     "text": [
      "Downloading: 100%|██████████| 226k/226k [00:00<00:00, 632kB/s] \n",
      "Downloading: 100%|██████████| 28.0/28.0 [00:00<00:00, 9.17kB/s]\n",
      "Downloading: 100%|██████████| 570/570 [00:00<00:00, 172kB/s]\n"
     ]
    },
    {
     "ename": "FileNotFoundError",
     "evalue": "[Errno 2] No such file or directory: 'sentiment.train.1'",
     "output_type": "error",
     "traceback": [
      "\u001b[0;31m---------------------------------------------------------------------------\u001b[0m",
      "\u001b[0;31mFileNotFoundError\u001b[0m                         Traceback (most recent call last)",
      "\u001b[1;32m/Users/sawol22/Desktop/ai/prac/main.ipynb 셀 3\u001b[0m in \u001b[0;36m<cell line: 1>\u001b[0;34m()\u001b[0m\n\u001b[0;32m----> <a href='vscode-notebook-cell:/Users/sawol22/Desktop/ai/prac/main.ipynb#ch0000003?line=0'>1</a>\u001b[0m train_dataset, dev_dataset, test_dataset, test_df \u001b[39m=\u001b[39m data2dataset()\n\u001b[1;32m      <a href='vscode-notebook-cell:/Users/sawol22/Desktop/ai/prac/main.ipynb#ch0000003?line=2'>3</a>\u001b[0m train_loader \u001b[39m=\u001b[39m torch\u001b[39m.\u001b[39mutils\u001b[39m.\u001b[39mdata\u001b[39m.\u001b[39mDataLoader(train_dataset,\n\u001b[1;32m      <a href='vscode-notebook-cell:/Users/sawol22/Desktop/ai/prac/main.ipynb#ch0000003?line=3'>4</a>\u001b[0m                                            batch_size\u001b[39m=\u001b[39mtrain_batch_size,\n\u001b[1;32m      <a href='vscode-notebook-cell:/Users/sawol22/Desktop/ai/prac/main.ipynb#ch0000003?line=4'>5</a>\u001b[0m                                            shuffle\u001b[39m=\u001b[39m\u001b[39mTrue\u001b[39;00m, collate_fn\u001b[39m=\u001b[39mcollate_fn_style,\n\u001b[1;32m      <a href='vscode-notebook-cell:/Users/sawol22/Desktop/ai/prac/main.ipynb#ch0000003?line=5'>6</a>\u001b[0m                                            pin_memory\u001b[39m=\u001b[39m\u001b[39mTrue\u001b[39;00m, num_workers\u001b[39m=\u001b[39m\u001b[39m2\u001b[39m)\n\u001b[1;32m      <a href='vscode-notebook-cell:/Users/sawol22/Desktop/ai/prac/main.ipynb#ch0000003?line=6'>7</a>\u001b[0m dev_loader \u001b[39m=\u001b[39m torch\u001b[39m.\u001b[39mutils\u001b[39m.\u001b[39mdata\u001b[39m.\u001b[39mDataLoader(dev_dataset, batch_size\u001b[39m=\u001b[39meval_batch_size,\n\u001b[1;32m      <a href='vscode-notebook-cell:/Users/sawol22/Desktop/ai/prac/main.ipynb#ch0000003?line=7'>8</a>\u001b[0m                                          shuffle\u001b[39m=\u001b[39m\u001b[39mFalse\u001b[39;00m, collate_fn\u001b[39m=\u001b[39mcollate_fn_style,\n\u001b[1;32m      <a href='vscode-notebook-cell:/Users/sawol22/Desktop/ai/prac/main.ipynb#ch0000003?line=8'>9</a>\u001b[0m                                          num_workers\u001b[39m=\u001b[39m\u001b[39m2\u001b[39m)\n",
      "File \u001b[0;32m~/Desktop/ai/prac/preprocess.py:10\u001b[0m, in \u001b[0;36mdata2dataset\u001b[0;34m()\u001b[0m\n\u001b[1;32m      8\u001b[0m \u001b[39mdef\u001b[39;00m \u001b[39mdata2dataset\u001b[39m():\n\u001b[1;32m      9\u001b[0m     tokenizer \u001b[39m=\u001b[39m BertTokenizer\u001b[39m.\u001b[39mfrom_pretrained(\u001b[39m'\u001b[39m\u001b[39mbert-base-uncased\u001b[39m\u001b[39m'\u001b[39m)\n\u001b[0;32m---> 10\u001b[0m     train_pos, train_neg, dev_pos, dev_neg \u001b[39m=\u001b[39m make_id_file(\u001b[39m'\u001b[39;49m\u001b[39myelp\u001b[39;49m\u001b[39m'\u001b[39;49m, tokenizer)\n\u001b[1;32m     11\u001b[0m     train_dataset \u001b[39m=\u001b[39m SentimentDataset(tokenizer, train_pos, train_neg)\n\u001b[1;32m     12\u001b[0m     dev_dataset \u001b[39m=\u001b[39m SentimentDataset(tokenizer, dev_pos, dev_neg)\n",
      "File \u001b[0;32m~/Desktop/ai/prac/utils.py:13\u001b[0m, in \u001b[0;36mmake_id_file\u001b[0;34m(task, tokenizer)\u001b[0m\n\u001b[1;32m     10\u001b[0m         data_strings\u001b[39m.\u001b[39mappend(\u001b[39m'\u001b[39m\u001b[39m \u001b[39m\u001b[39m'\u001b[39m\u001b[39m.\u001b[39mjoin([\u001b[39mstr\u001b[39m(k) \u001b[39mfor\u001b[39;00m k \u001b[39min\u001b[39;00m item]))\n\u001b[1;32m     11\u001b[0m     \u001b[39mreturn\u001b[39;00m data_strings\n\u001b[0;32m---> 13\u001b[0m train_pos \u001b[39m=\u001b[39m make_data_strings(\u001b[39m'\u001b[39;49m\u001b[39msentiment.train.1\u001b[39;49m\u001b[39m'\u001b[39;49m)\n\u001b[1;32m     14\u001b[0m train_neg \u001b[39m=\u001b[39m make_data_strings(\u001b[39m'\u001b[39m\u001b[39msentiment.train.0\u001b[39m\u001b[39m'\u001b[39m)\n\u001b[1;32m     15\u001b[0m dev_pos \u001b[39m=\u001b[39m make_data_strings(\u001b[39m'\u001b[39m\u001b[39msentiment.dev.1\u001b[39m\u001b[39m'\u001b[39m)\n",
      "File \u001b[0;32m~/Desktop/ai/prac/utils.py:7\u001b[0m, in \u001b[0;36mmake_id_file.<locals>.make_data_strings\u001b[0;34m(file_name)\u001b[0m\n\u001b[1;32m      5\u001b[0m \u001b[39mdef\u001b[39;00m \u001b[39mmake_data_strings\u001b[39m(file_name):\n\u001b[1;32m      6\u001b[0m     data_strings \u001b[39m=\u001b[39m []\n\u001b[0;32m----> 7\u001b[0m     \u001b[39mwith\u001b[39;00m \u001b[39mopen\u001b[39;49m(os\u001b[39m.\u001b[39;49mpath\u001b[39m.\u001b[39;49mjoin(file_name), \u001b[39m'\u001b[39;49m\u001b[39mr\u001b[39;49m\u001b[39m'\u001b[39;49m, encoding\u001b[39m=\u001b[39;49m\u001b[39m'\u001b[39;49m\u001b[39mutf-8\u001b[39;49m\u001b[39m'\u001b[39;49m) \u001b[39mas\u001b[39;00m f:\n\u001b[1;32m      8\u001b[0m         id_file_data \u001b[39m=\u001b[39m [tokenizer\u001b[39m.\u001b[39mencode(line\u001b[39m.\u001b[39mlower()) \u001b[39mfor\u001b[39;00m line \u001b[39min\u001b[39;00m f\u001b[39m.\u001b[39mreadlines()]\n\u001b[1;32m      9\u001b[0m     \u001b[39mfor\u001b[39;00m item \u001b[39min\u001b[39;00m id_file_data:\n",
      "\u001b[0;31mFileNotFoundError\u001b[0m: [Errno 2] No such file or directory: 'sentiment.train.1'"
     ]
    }
   ],
   "source": [
    "train_dataset, dev_dataset, test_dataset, test_df = data2dataset()\n",
    "\n",
    "train_loader = torch.utils.data.DataLoader(train_dataset,\n",
    "                                           batch_size=config.batch_size,\n",
    "                                           shuffle=True, collate_fn=collate_fn_style,\n",
    "                                           pin_memory=True, num_workers=2)\n",
    "dev_loader = torch.utils.data.DataLoader(dev_dataset, batch_size=config.batch_size,\n",
    "                                         shuffle=False, collate_fn=collate_fn_style,\n",
    "                                         num_workers=2)"
   ]
  },
  {
   "cell_type": "code",
   "execution_count": null,
   "metadata": {},
   "outputs": [],
   "source": [
    "# random seed\n",
    "np.random.seed(config.seed)\n",
    "torch.manual_seed(config.seed)\n",
    "\n",
    "device = torch.device('cuda' if torch.cuda.is_available() else 'cpu')\n",
    "\n",
    "model = BertForSequenceClassification.from_pretrained('bert-base-uncased')\n",
    "model.to(device)\n",
    "wandb.watch(model)"
   ]
  },
  {
   "cell_type": "code",
   "execution_count": null,
   "metadata": {},
   "outputs": [],
   "source": [
    "model.train()\n",
    "optimizer = AdamW(model.parameters(), lr=config.learning_rate)"
   ]
  },
  {
   "cell_type": "markdown",
   "metadata": {},
   "source": [
    "# Train"
   ]
  },
  {
   "cell_type": "code",
   "execution_count": null,
   "metadata": {},
   "outputs": [],
   "source": [
    "lowest_valid_loss = 9999.\n",
    "for epoch in range(config.epochs):\n",
    "    with tqdm(train_loader, unit=\"batch\") as tepoch:\n",
    "        for iteration, (input_ids, attention_mask, token_type_ids, position_ids, labels) in enumerate(tepoch):\n",
    "            tepoch.set_description(f\"Epoch {epoch}\")\n",
    "            input_ids = input_ids.to(device)\n",
    "            attention_mask = attention_mask.to(device)\n",
    "            token_type_ids = token_type_ids.to(device)\n",
    "            position_ids = position_ids.to(device)\n",
    "            labels = labels.to(device, dtype=torch.long)\n",
    "            \n",
    "            optimizer.zero_grad()\n",
    "\n",
    "            output = model(input_ids=input_ids,\n",
    "                           attention_mask=attention_mask,\n",
    "                           token_type_ids=token_type_ids,\n",
    "                           position_ids=position_ids,\n",
    "                           labels=labels)\n",
    "\n",
    "            loss = output.loss\n",
    "            loss.backward()\n",
    "            \n",
    "            optimizer.step()\n",
    "            tepoch.set_postfix(loss=loss.item())\n",
    "            \n",
    "            if iteration % config.tr_loss_check == 0:\n",
    "              wandb.log({\"train_loss\" : loss})\n",
    "              \n",
    "            if iteration != 0 and iteration % int(len(train_loader) / 5) == 0:\n",
    "                # Evaluate the model five times per epoch\n",
    "                with torch.no_grad():\n",
    "                    model.eval()\n",
    "                    valid_losses = []\n",
    "                    predictions = []\n",
    "                    target_labels = []\n",
    "                    for input_ids, attention_mask, token_type_ids, position_ids, labels in tqdm(dev_loader,\n",
    "                                                                                                desc='Eval',\n",
    "                                                                                                position=1,\n",
    "                                                                                                leave=None):\n",
    "                        input_ids = input_ids.to(device)\n",
    "                        attention_mask = attention_mask.to(device)\n",
    "                        token_type_ids = token_type_ids.to(device)\n",
    "                        position_ids = position_ids.to(device)\n",
    "                        labels = labels.to(device, dtype=torch.long)\n",
    "\n",
    "                        output = model(input_ids=input_ids,\n",
    "                                       attention_mask=attention_mask,\n",
    "                                       token_type_ids=token_type_ids,\n",
    "                                       position_ids=position_ids,\n",
    "                                       labels=labels)\n",
    "\n",
    "                        logits = output.logits\n",
    "                        loss = output.loss\n",
    "                        valid_losses.append(loss.item())\n",
    "\n",
    "                        batch_predictions = [0 if example[0] > example[1] else 1 for example in logits]\n",
    "                        batch_labels = [int(example) for example in labels]\n",
    "\n",
    "                        predictions += batch_predictions\n",
    "                        target_labels += batch_labels\n",
    "\n",
    "                acc = compute_acc(predictions, target_labels)\n",
    "                valid_loss = sum(valid_losses) / len(valid_losses)\n",
    "                wandb.log({\"val_acc\":acc, \"val_loss\" : valid_loss})\n",
    "                if lowest_valid_loss > valid_loss:\n",
    "                    print('Acc for model which have lower valid loss: ', acc)\n",
    "                    torch.save(model.state_dict(), \"./pytorch_model.bin\")\n",
    "wandb.finish()"
   ]
  },
  {
   "cell_type": "code",
   "execution_count": null,
   "metadata": {},
   "outputs": [],
   "source": [
    "test_loader = torch.utils.data.DataLoader(test_dataset, batch_size=config.batch_size,\n",
    "                                          shuffle=False, collate_fn=collate_fn_style_test,\n",
    "                                          num_workers=2)"
   ]
  },
  {
   "cell_type": "code",
   "execution_count": null,
   "metadata": {},
   "outputs": [],
   "source": [
    "with torch.no_grad():\n",
    "    model.eval()\n",
    "    predictions = []\n",
    "    for input_ids, attention_mask, token_type_ids, position_ids in tqdm(test_loader,\n",
    "                                                                        desc='Test',\n",
    "                                                                        position=1,\n",
    "                                                                        leave=None):\n",
    "\n",
    "        input_ids = input_ids.to(device)\n",
    "        attention_mask = attention_mask.to(device)\n",
    "        token_type_ids = token_type_ids.to(device)\n",
    "        position_ids = position_ids.to(device)\n",
    "\n",
    "        output = model(input_ids=input_ids,\n",
    "                       attention_mask=attention_mask,\n",
    "                       token_type_ids=token_type_ids,\n",
    "                       position_ids=position_ids)\n",
    "\n",
    "        logits = output.logits\n",
    "        batch_predictions = [0 if example[0] > example[1] else 1 for example in logits]\n",
    "        predictions += batch_predictions"
   ]
  },
  {
   "cell_type": "code",
   "execution_count": null,
   "metadata": {},
   "outputs": [],
   "source": [
    "test_df['Category'] = predictions\n",
    "test_df.to_csv('submission.csv', index=False)"
   ]
  }
 ],
 "metadata": {
  "kernelspec": {
   "display_name": "Python 3.9.12 ('sawol')",
   "language": "python",
   "name": "python3"
  },
  "language_info": {
   "codemirror_mode": {
    "name": "ipython",
    "version": 3
   },
   "file_extension": ".py",
   "mimetype": "text/x-python",
   "name": "python",
   "nbconvert_exporter": "python",
   "pygments_lexer": "ipython3",
   "version": "3.9.12"
  },
  "orig_nbformat": 4,
  "vscode": {
   "interpreter": {
    "hash": "52439c17ae9e7865010b23f3ecb0a061945370b287a07a5a21a615abca8bb4c6"
   }
  }
 },
 "nbformat": 4,
 "nbformat_minor": 2
}
